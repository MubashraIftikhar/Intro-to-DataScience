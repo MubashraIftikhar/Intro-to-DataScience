{
  "metadata": {
    "kernelspec": {
      "name": "python",
      "display_name": "Python (Pyodide)",
      "language": "python"
    },
    "language_info": {
      "codemirror_mode": {
        "name": "python",
        "version": 3
      },
      "file_extension": ".py",
      "mimetype": "text/x-python",
      "name": "python",
      "nbconvert_exporter": "python",
      "pygments_lexer": "ipython3",
      "version": "3.8"
    }
  },
  "nbformat_minor": 4,
  "nbformat": 4,
  "cells": [
    {
      "cell_type": "markdown",
      "source": "## Part 1: User Data Processing with Lists\n",
      "metadata": {}
    },
    {
      "cell_type": "code",
      "source": "user_data = [\n    (1, \"Aliyah\", 25, \"USA\"),\n    (2, \"Ahmad\", 35, \"Canada\"),\n    (3, \"Fatima\", 22, \"UK\"),\n    (4, \"Junaid\", 40, \"USA\"),\n    (5, \"Sara\", 30, \"Canada\"),\n    (6, \"Sara\", 29, \"Pakistan\"),\n    (7, \"Aisha\", 45, \"USA\"),\n    (8, \"Ahmad\", 50, \"Canada\"),\n    (9, \"Ayesha\", 32, \"UK\"),\n    (10, \"Zayn\", 33, \"USA\"),\n    (11, \"Zubair\", 60, \"Canada\"),\n    (12, \"Sadaf\", 28, \"USA\"),\n    (13, \"Saba\", 34, \"UK\"),\n    (14, \"Fatima\", 37, \"Pakistan\"),\n    (15, \"Hajra\", 27, \"Canada\")\n]",
      "metadata": {
        "trusted": true
      },
      "outputs": [],
      "execution_count": 11
    },
    {
      "cell_type": "code",
      "source": "def filter_by_age_country(data):\n    filtered_users = []\n    for user_id, user_name, age, country in data:\n        if age > 30 and country in ['USA', 'Canada']:\n            filtered_users.append(user_name)\n    return filtered_users\n\n\nfiltered_users = filter_by_age_country(user_data)\nprint(filtered_users)",
      "metadata": {
        "trusted": true
      },
      "outputs": [
        {
          "name": "stdout",
          "text": "['Ahmad', 'Junaid', 'Aisha', 'Ahmad', 'Zayn', 'Zubair']\n",
          "output_type": "stream"
        }
      ],
      "execution_count": 13
    },
    {
      "cell_type": "code",
      "source": "def get_age(user):\n    return user[2]\ndef top_10(data):\n    user_data.sort(key=get_age)\n    top_10_users = data[:10]\n    print(\"\\nSorted by age:\")\n    for user in top_10_users:\n        print(user)\n\ntop_10(user_data)",
      "metadata": {
        "trusted": true
      },
      "outputs": [
        {
          "name": "stdout",
          "text": "\nSorted by age:\n(3, 'Fatima', 22, 'UK')\n(1, 'Aliyah', 25, 'USA')\n(15, 'Hajra', 27, 'Canada')\n(12, 'Sadaf', 28, 'USA')\n(6, 'Sara', 29, 'Pakistan')\n(5, 'Sara', 30, 'Canada')\n(9, 'Ayesha', 32, 'UK')\n(10, 'Zayn', 33, 'USA')\n(13, 'Saba', 34, 'UK')\n(2, 'Ahmad', 35, 'Canada')\n",
          "output_type": "stream"
        }
      ],
      "execution_count": 14
    },
    {
      "cell_type": "code",
      "source": "def duplicate_names(data):\n    name_count = {}    \n    for user_id, user_name, age, country in data:\n        if user_name in name_count:\n            name_count[user_name] += 1\n        else:\n            name_count[user_name] = 1\n    duplicates = []\n    for name, count in name_count.items():\n        if count > 1:\n            duplicates.append(name)\n    if duplicates:\n        print(\"Duplicate names found:\", duplicates)\n    else:\n        print(\"No duplicate names found.\")\nduplicate_names(user_data)",
      "metadata": {
        "trusted": true
      },
      "outputs": [
        {
          "name": "stdout",
          "text": "Duplicate names found: ['Ahmad', 'Fatima', 'Sara']\n",
          "output_type": "stream"
        }
      ],
      "execution_count": 12
    },
    {
      "cell_type": "markdown",
      "source": "## Part 2: Immutable Data Management with Tuples",
      "metadata": {}
    },
    {
      "cell_type": "code",
      "source": "import copy\ntransaction_data = [\n    (101, 1, 250.00, \"2024-10-01 10:00\"),\n    (102, 2, 150.50, \"2024-10-01 11:00\"),\n    (103, 1, 300.00, \"2024-10-01 12:00\"),\n    (104, 3, 450.75, \"2024-10-01 13:00\"),\n    (105, 2, 125.25, \"2024-10-01 14:00\"),\n    (106, 4, 600.00, \"2024-10-01 15:00\"),\n    (107, 3, 350.00, \"2024-10-01 16:00\"),\n    (108, 5, 200.00, \"2024-10-01 17:00\")\n]",
      "metadata": {
        "trusted": true
      },
      "outputs": [],
      "execution_count": 18
    },
    {
      "cell_type": "code",
      "source": "def count_unique_users(transactions):\n    unique_users = set()\n    \n    for transaction in transactions:\n        transaction_id, user_id, amount, timestamp = transaction\n        unique_users.add(user_id)\n    \n    return len(unique_users)\n\ncount_unique_users(transaction_data)",
      "metadata": {
        "trusted": true
      },
      "outputs": [
        {
          "execution_count": 17,
          "output_type": "execute_result",
          "data": {
            "text/plain": "5"
          },
          "metadata": {}
        }
      ],
      "execution_count": 17
    },
    {
      "cell_type": "code",
      "source": "def find_highest_transaction(transactions):\n    highest_transaction = transactions[0]\n\n    for transaction in transactions:\n        if transaction[2] > highest_transaction[2]:\n            highest_transaction = transaction\n\n    return highest_transaction\n\nhighest_transaction = find_highest_transaction(transaction_data)\nprint(f\"Transaction with the highest amount: {highest_transaction}\")",
      "metadata": {
        "trusted": true
      },
      "outputs": [
        {
          "name": "stdout",
          "text": "Transaction with the highest amount: (106, 4, 600.0, '2024-10-01 15:00')\n",
          "output_type": "stream"
        }
      ],
      "execution_count": 24
    },
    {
      "cell_type": "code",
      "source": "def separate_transaction_and_user_ids(transactions):\n    transactions_copy = copy.deepcopy(transactions)\n    \n    transaction_ids = []\n    user_ids = []\n    for transaction in transactions_copy:\n        transaction_id, user_id, amount, timestamp = transaction\n        transaction_ids.append(transaction_id)\n        user_ids.append(user_id)\n    \n    return transaction_ids, user_ids\n\ntransaction_ids, user_ids = separate_transaction_and_user_ids(transaction_data)\nprint(\"Transaction IDs:\", transaction_ids)\nprint(\"User IDs:\", user_ids)",
      "metadata": {
        "trusted": true
      },
      "outputs": [
        {
          "name": "stdout",
          "text": "Transaction IDs: [101, 102, 103, 104, 105, 106, 107, 108]\nUser IDs: [1, 2, 1, 3, 2, 4, 3, 5]\n",
          "output_type": "stream"
        }
      ],
      "execution_count": 22
    },
    {
      "cell_type": "markdown",
      "source": "## Part 3: Unique Data Handling with Sets",
      "metadata": {}
    },
    {
      "cell_type": "code",
      "source": "page_a_visitors = {1, 2, 3, 4, 5}\npage_b_visitors = {3, 4, 5, 6, 7}\npage_c_visitors = {1, 5, 8, 9}",
      "metadata": {
        "trusted": true
      },
      "outputs": [],
      "execution_count": 26
    },
    {
      "cell_type": "code",
      "source": "#Finds users who visited both Page A and Page B.\ndef find_users_both_a_b(page_a, page_b):\n    return page_a.intersection(page_b)\n\nusers_both_a_b = find_users_both_a_b(page_a_visitors, page_b_visitors)\nprint(f\"Users who visited both Page A and Page B: {users_both_a_b}\")",
      "metadata": {
        "trusted": true
      },
      "outputs": [
        {
          "name": "stdout",
          "text": "Users who visited both Page A and Page B: {3, 4, 5}\n",
          "output_type": "stream"
        }
      ],
      "execution_count": 27
    },
    {
      "cell_type": "code",
      "source": "#Finds users who visited either Page A or Page C, but not both.\ndef find_users_a_or_c_not_b(page_a, page_c):\n    return page_a.symmetric_difference(page_c)\n\nusers_a_or_c_not_b = find_users_a_or_c_not_b(page_a_visitors, page_c_visitors)\nprint(f\"Users who visited either Page A or Page C, but not both: {users_a_or_c_not_b}\")",
      "metadata": {
        "trusted": true
      },
      "outputs": [
        {
          "name": "stdout",
          "text": "Users who visited either Page A or Page C, but not both: {2, 3, 4, 8, 9}\n",
          "output_type": "stream"
        }
      ],
      "execution_count": 28
    },
    {
      "cell_type": "code",
      "source": "# Updates the set for Page A with new user IDs.\ndef update_page_a_visitors(page_a, new_visitors):\n    page_a.update(new_visitors)\n\nnew_users = {10, 11, 12}\nprint(f\"Original visitors to Page A: {page_a_visitors}\")\n# Updated\nupdate_page_a_visitors(page_a_visitors, new_users)\nprint(f\"Updated visitors to Page A: {page_a_visitors}\")",
      "metadata": {
        "trusted": true
      },
      "outputs": [
        {
          "name": "stdout",
          "text": "Original visitors to Page A: {1, 2, 3, 4, 5}\nUpdated visitors to Page A: {1, 2, 3, 4, 5, 10, 11, 12}\n",
          "output_type": "stream"
        }
      ],
      "execution_count": 29
    },
    {
      "cell_type": "code",
      "source": "#Removes a list of user IDs from the set for Page B.\ndef remove_from_page_b_visitors(page_b, users_to_remove):\n    page_b.difference_update(users_to_remove)\n    \nusers_to_remove = {4, 6}\nprint(f\"Original visitors to Page B: {page_b_visitors}\")\nremove_from_page_b_visitors(page_b_visitors, users_to_remove)\nprint(f\"Updated visitors to Page B: {page_b_visitors}\")",
      "metadata": {
        "trusted": true
      },
      "outputs": [
        {
          "name": "stdout",
          "text": "Original visitors to Page B: {3, 4, 5, 6, 7}\nUpdated visitors to Page B: {3, 5, 7}\n",
          "output_type": "stream"
        }
      ],
      "execution_count": 30
    },
    {
      "cell_type": "markdown",
      "source": "## Part 4: Data Aggregation with Dictionaries",
      "metadata": {}
    },
    {
      "cell_type": "code",
      "source": "user_feedback = {\n    101: {'rating': 5, 'comments': 'Excellent service!'},\n    102: {'rating': 3, 'comments': 'Average experience.'},\n    103: {'rating': 4, 'comments': 'Good, but could be better.'},\n    104: {'rating': 2, 'comments': 'Not satisfied.'},\n    105: {'rating': 4, 'comments': 'Very good!'},\n    106: {'rating': 5, 'comments': 'Loved it!'},\n    107: {'rating': 3, 'comments': 'Satisfactory.'},\n    108: {'rating': 1, 'comments': 'Very disappointed.'}\n}\n",
      "metadata": {
        "trusted": true
      },
      "outputs": [],
      "execution_count": 40
    },
    {
      "cell_type": "code",
      "source": "#Filters out users who rated 4 or higher and stores their user_id and rating in a new dictionary.\ndef filter_top_rated_users(feedback):\n    top_users = {}\n    for user_id, details in feedback.items(): #iterate through dict\n        if details['rating'] >= 4:\n            top_users[user_id] = details['rating']\n    return top_users\n\ntop_users = filter_top_rated_users(user_feedback)\nprint(\"Users with ratings of 4 or higher:\", top_users)",
      "metadata": {
        "trusted": true
      },
      "outputs": [
        {
          "name": "stdout",
          "text": "Users with ratings of 4 or higher: {101: 5, 103: 4, 105: 4, 106: 5}\n",
          "output_type": "stream"
        }
      ],
      "execution_count": 43
    },
    {
      "cell_type": "code",
      "source": "#sort the dictionary of user feedback by rating in descending order and return the top 5 users.\ndef get_rating(item):\n    details = item[1]\n    return details['rating']\n\ndef top_5_users(feedback):\n    sorted_feedback = sorted(feedback.items(), key=get_rating, reverse=True)\n    top_5 = {}\n    for user_id, details in sorted_feedback[:5]:\n        top_5[user_id] = details['rating']\n    return top_5\n\ntop_users = top_5_users(user_feedback)\nprint(\"Top 5 users based on ratings:\", top_users)\n",
      "metadata": {
        "trusted": true
      },
      "outputs": [
        {
          "name": "stdout",
          "text": "Top 5 users based on ratings: {101: 5, 106: 5, 103: 4, 105: 4, 102: 3}\n",
          "output_type": "stream"
        }
      ],
      "execution_count": 42
    },
    {
      "cell_type": "code",
      "source": "feedback1 = {\n    1: {'rating': 4, 'comments': 'Good service.'},\n    2: {'rating': 5, 'comments': 'Excellent!'},\n}\n\nfeedback2 = {\n    1: {'rating': 5, 'comments': 'Improved a lot!'},\n    3: {'rating': 2, 'comments': 'Not great.'},\n}\n\nfeedback3 = {\n    2: {'rating': 4, 'comments': 'Still good!'},\n    4: {'rating': 3, 'comments': 'Average.'},\n}",
      "metadata": {
        "trusted": true
      },
      "outputs": [],
      "execution_count": 44
    },
    {
      "cell_type": "code",
      "source": " #Combines feedback from multiple dictionaries, updating ratings and appending comments.\ndef combine_feedback(*feedback_dicts):\n    combined_feedback = {}\n\n    for feedback in feedback_dicts:\n        for user_id, details in feedback.items():\n            if user_id in combined_feedback:\n                combined_feedback[user_id]['rating'] = max(combined_feedback[user_id]['rating'], details['rating'])\n                combined_feedback[user_id]['comments'].append(details['comments'])\n            else:\n                combined_feedback[user_id] = {\n                    'rating': details['rating'],\n                    'comments': [details['comments']]\n                }\n    \n    return combined_feedback\n\ncombined = combine_feedback(feedback1, feedback2, feedback3)\nprint(\"Combined Feedback:\", combined)",
      "metadata": {
        "trusted": true
      },
      "outputs": [
        {
          "name": "stdout",
          "text": "Combined Feedback: {1: {'rating': 5, 'comments': ['Good service.', 'Improved a lot!']}, 2: {'rating': 5, 'comments': ['Excellent!', 'Still good!']}, 3: {'rating': 2, 'comments': ['Not great.']}, 4: {'rating': 3, 'comments': ['Average.']}}\n",
          "output_type": "stream"
        }
      ],
      "execution_count": 45
    },
    {
      "cell_type": "code",
      "source": "def users_above_rating3(feedback, min_rating=3):\n    filtered_users = {}\n    for user_id, details in feedback.items():\n        if details['rating'] > min_rating:\n            filtered_users[user_id] = details['rating']\n    return filtered_users\n\nfiltered_users = users_above_rating3(user_feedback, min_rating=3)\nprint(\"Users with ratings greater than 3:\", filtered_users)",
      "metadata": {
        "trusted": true
      },
      "outputs": [
        {
          "name": "stdout",
          "text": "Users with ratings greater than 3: {101: 5, 103: 4, 105: 4, 106: 5}\n",
          "output_type": "stream"
        }
      ],
      "execution_count": 47
    },
    {
      "cell_type": "code",
      "source": "",
      "metadata": {
        "trusted": true
      },
      "outputs": [],
      "execution_count": null
    }
  ]
}