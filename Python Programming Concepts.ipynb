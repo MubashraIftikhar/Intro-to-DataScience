{
  "cells": [
    {
      "cell_type": "markdown",
      "metadata": {},
      "source": [
        "## Task 1: E-commerce Data Processing\n",
        "You are tasked with building a system to handle order and customer data for an online store.\n",
        "The system needs to use lambda functions, Python's built-in functions (e.g., map(),\n",
        "filter(), reduce()), and proper exception handling."
      ]
    },
    {
      "cell_type": "markdown",
      "metadata": {},
      "source": [
        "### Part A: Data Validation"
      ]
    },
    {
      "cell_type": "code",
      "execution_count": 1,
      "metadata": {
        "trusted": true
      },
      "outputs": [],
      "source": [
        "orders = [\n",
        "{\"customer\": \"Alice\", \"total\": 250.5},\n",
        "{\"customer\": \"Bob\", \"total\": \"invalid_data\"},\n",
        "{\"customer\": \"Charlie\", \"total\": 450},\n",
        "{\"customer\": \"Daisy\", \"total\": 100.0},\n",
        "{\"customer\": \"Eve\", \"total\": -30}, # Invalid total\n",
        "]"
      ]
    },
    {
      "cell_type": "code",
      "execution_count": 2,
      "metadata": {
        "trusted": true
      },
      "outputs": [
        {
          "name": "stdout",
          "output_type": "stream",
          "text": [
            "[{'customer': 'Alice', 'total': 250.5}, {'customer': 'Charlie', 'total': 450}, {'customer': 'Daisy', 'total': 100.0}]\n"
          ]
        }
      ],
      "source": [
        "def filter_invalid_orders(orders):\n",
        "    valid_orders = filter(lambda order: is_valid_total(order['total']), orders) #to filter invalid orders using filter() and lambda()\n",
        "    return list(valid_orders)\n",
        "\n",
        "def is_valid_total(total):#to check for valid total\n",
        "    try:\n",
        "        return float(total) >= 0\n",
        "    except (ValueError, TypeError):\n",
        "        return False\n",
        "filtered_orders = filter_invalid_orders(orders)\n",
        "print(filtered_orders)"
      ]
    },
    {
      "cell_type": "markdown",
      "metadata": {},
      "source": [
        "### Part B: Discount Application\n",
        "After validating the orders, the store is offering a 10% discount on all orders above $300."
      ]
    },
    {
      "cell_type": "code",
      "execution_count": 3,
      "metadata": {
        "trusted": true
      },
      "outputs": [
        {
          "name": "stdout",
          "output_type": "stream",
          "text": [
            "[{'customer': 'Alice', 'total': 250.5}, {'customer': 'Charlie', 'total': 405.0}, {'customer': 'Daisy', 'total': 100.0}]\n"
          ]
        }
      ],
      "source": [
        "def discount(orders):\n",
        "    discounted_orders = map(lambda order: {'customer': order['customer'], 'total': order['total'] * 0.9} if order['total'] > 300 else order, orders)\n",
        "    return list(discounted_orders) #will return total for all customer discounted for those whose order total >300$\n",
        "discounted_orders = discount(filtered_orders)\n",
        "print(discounted_orders) "
      ]
    },
    {
      "cell_type": "markdown",
      "metadata": {},
      "source": [
        "### Part C: Total Sales Calculation\n",
        "Use the reduce() function with a lambda to:\n",
        "• Calculate the total sales from the list of valid orders (after applying discounts)."
      ]
    },
    {
      "cell_type": "code",
      "execution_count": 4,
      "metadata": {
        "trusted": true
      },
      "outputs": [
        {
          "name": "stdout",
          "output_type": "stream",
          "text": [
            "Total Sales: 755.5\n"
          ]
        }
      ],
      "source": [
        "from functools import reduce\n",
        "def calculate_total_sales(orders):\n",
        "    total_sales = reduce(lambda acc, order: acc + order['total'], orders, 0)\n",
        "    return total_sales\n",
        "total_sales = calculate_total_sales(discounted_orders)\n",
        "print(\"Total Sales:\",total_sales)"
      ]
    },
    {
      "cell_type": "markdown",
      "metadata": {},
      "source": [
        "## Task 2: Iterator and Generator"
      ]
    },
    {
      "cell_type": "markdown",
      "metadata": {},
      "source": [
        "### Part A: Custom Iterator\n",
        "Create a custom iterator class SquareIterator"
      ]
    },
    {
      "cell_type": "code",
      "execution_count": 5,
      "metadata": {
        "trusted": true
      },
      "outputs": [
        {
          "name": "stdout",
          "output_type": "stream",
          "text": [
            "1 4 9 16 25 "
          ]
        }
      ],
      "source": [
        "class SquareIterator:\n",
        "    def __init__(self, n):\n",
        "        self.n = n\n",
        "        self.curr = 1\n",
        "\n",
        "    def __iter__(self):\n",
        "        return self\n",
        "\n",
        "    def __next__(self):\n",
        "        if self.curr <= self.n:\n",
        "            result = self.curr ** 2\n",
        "            self.curr += 1\n",
        "            return result\n",
        "        else:\n",
        "            raise StopIteration\n",
        "\n",
        "n = 5\n",
        "squares = SquareIterator(n)\n",
        "for square in squares:\n",
        "    print(square,end= ' ')\n"
      ]
    },
    {
      "cell_type": "code",
      "execution_count": 6,
      "metadata": {
        "trusted": true
      },
      "outputs": [
        {
          "name": "stdout",
          "output_type": "stream",
          "text": [
            "0 1 1 2 3 5 8 "
          ]
        }
      ],
      "source": [
        "def fibonacci_generator(n):\n",
        "    a, b = 0, 1\n",
        "    while a <= n:\n",
        "        yield a\n",
        "        a, b = b, a + b\n",
        "\n",
        "n = 10\n",
        "for number in fibonacci_generator(n):\n",
        "    print(number,end= ' ')\n"
      ]
    },
    {
      "cell_type": "markdown",
      "metadata": {},
      "source": [
        "## Task 3: Exception Handling and Function Decorator\n",
        "You need to implement robust exception handling in the system."
      ]
    },
    {
      "cell_type": "markdown",
      "metadata": {},
      "source": [
        "### Part A: Chained Exceptions"
      ]
    },
    {
      "cell_type": "code",
      "execution_count": 7,
      "metadata": {
        "trusted": true
      },
      "outputs": [
        {
          "name": "stdout",
          "output_type": "stream",
          "text": [
            "Exception: name 'DivisionByZeroError' is not defined\n"
          ]
        }
      ],
      "source": [
        "def divide_numbers(numbers, divisor):\n",
        "    results = []\n",
        "    for number in numbers:\n",
        "        try:\n",
        "            if divisor == 0:\n",
        "                raise DivisionByZeroError(\"Cannot divide by zero.\")\n",
        "            result = number / divisor\n",
        "            results.append(result)\n",
        "        except DivisionByZeroError as e:\n",
        "            print(f\"Custom Exception: {e}\")\n",
        "            raise\n",
        "        except Exception as e:\n",
        "            raise Exception(\"An error occurred while dividing the numbers.\") from e\n",
        "    return results\n",
        "\n",
        "\n",
        "numbers = [10, 20, 'a', 40]\n",
        "divisor = 0\n",
        "\n",
        "#numbers = [10, 20, 40]\n",
        "#divisor = 2\n",
        "\n",
        "try:\n",
        "    print(divide_numbers(numbers, divisor))\n",
        "except Exception as e:\n",
        "    print(f\"Exception: {e}\")\n"
      ]
    },
    {
      "cell_type": "markdown",
      "metadata": {},
      "source": [
        "### Part B: Exception Logging Decorator"
      ]
    },
    {
      "cell_type": "code",
      "execution_count": 8,
      "metadata": {
        "trusted": true
      },
      "outputs": [
        {
          "name": "stderr",
          "output_type": "stream",
          "text": [
            "Exception occurred in divide: Cannot divide by zero\n"
          ]
        },
        {
          "name": "stdout",
          "output_type": "stream",
          "text": [
            "An error occurred: Cannot divide by zero\n"
          ]
        }
      ],
      "source": [
        "import logging\n",
        "\n",
        "def log_exceptions(func):\n",
        "    def wrapper(*args, **kwargs):\n",
        "        try:\n",
        "            return func(*args, **kwargs)\n",
        "        except Exception as e:\n",
        "            logger = logging.getLogger(__name__)\n",
        "            logger.error(f\"Exception occurred in {func.__name__}: {e}\")\n",
        "            raise  # Re-raise the exception\n",
        "\n",
        "    return wrapper\n",
        "\n",
        "@log_exceptions #Decorator\n",
        "def divide(x, y):\n",
        "    if y == 0:\n",
        "        raise ZeroDivisionError(\"Cannot divide by zero\")\n",
        "    return x / y\n",
        "\n",
        "try:\n",
        "    result = divide(10, 0)\n",
        "except Exception as e:\n",
        "    print(f\"An error occurred: {e}\")\n",
        "   "
      ]
    },
    {
      "cell_type": "code",
      "execution_count": null,
      "metadata": {
        "trusted": true
      },
      "outputs": [],
      "source": []
    }
  ],
  "metadata": {
    "kernelspec": {
      "display_name": "Python 3",
      "language": "python",
      "name": "python3"
    },
    "language_info": {
      "codemirror_mode": {
        "name": "ipython",
        "version": 3
      },
      "file_extension": ".py",
      "mimetype": "text/x-python",
      "name": "python",
      "nbconvert_exporter": "python",
      "pygments_lexer": "ipython3",
      "version": "3.6.8"
    }
  },
  "nbformat": 4,
  "nbformat_minor": 4
}
