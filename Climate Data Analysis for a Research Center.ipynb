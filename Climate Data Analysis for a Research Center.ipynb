{
  "metadata": {
    "kernelspec": {
      "name": "python",
      "display_name": "Python (Pyodide)",
      "language": "python"
    },
    "language_info": {
      "codemirror_mode": {
        "name": "python",
        "version": 3
      },
      "file_extension": ".py",
      "mimetype": "text/x-python",
      "name": "python",
      "nbconvert_exporter": "python",
      "pygments_lexer": "ipython3",
      "version": "3.8"
    }
  },
  "nbformat_minor": 4,
  "nbformat": 4,
  "cells": [
    {
      "cell_type": "markdown",
      "source": "### 1. Initialize Temperature and Humidity Data",
      "metadata": {}
    },
    {
      "cell_type": "code",
      "source": "import numpy as np\n\n# Generate temperature data in Celsius (-10 to 40 degrees for each of the 500 locations across 365 days.)\ntemperature_data = np.random.uniform(-10, 40, (500, 365))\n\n# Generate humidity data (0 to 100 percent)\nhumidity_data = np.random.uniform(0, 100, (500, 365))",
      "metadata": {
        "trusted": true
      },
      "outputs": [],
      "execution_count": 14
    },
    {
      "cell_type": "markdown",
      "source": "### 2. Check for Missing Data",
      "metadata": {}
    },
    {
      "cell_type": "code",
      "source": "# Simulate missing data\nmissing_indices_temp = np.random.choice(temperature_data.size, int(temperature_data.size * 0.05), replace=False) # setting% values missing\nmissing_indices_humidity = np.random.choice(humidity_data.size, int(humidity_data.size * 0.05), replace=False)\n\ntemperature_data.flat[missing_indices_temp] = np.nan\nhumidity_data.flat[missing_indices_humidity] = np.nan\n\n# Count missing values\nmissing_temp_count = np.isnan(temperature_data).sum()\nmissing_humidity_count = np.isnan(humidity_data).sum()\n\nprint(f\"Total missing entries in temperature data: {missing_temp_count}\")\nprint(f\"Total missing entries in humidity data: {missing_humidity_count}\")",
      "metadata": {
        "trusted": true
      },
      "outputs": [
        {
          "name": "stdout",
          "text": "Total missing entries in temperature data: 9125\nTotal missing entries in humidity data: 9125\n",
          "output_type": "stream"
        }
      ],
      "execution_count": 15
    },
    {
      "cell_type": "markdown",
      "source": "### 3. Convert Temperature and Calculate Discomfort Index",
      "metadata": {}
    },
    {
      "cell_type": "code",
      "source": "# Convert Celsius to Fahrenheit\ntemperature_data_fahrenheit = (temperature_data * 9/5) + 32\n\n# Calculate (feels like) discomfort index\ndiscomfort_index = 0.5 * (temperature_data_fahrenheit + 61.0 + ((temperature_data_fahrenheit - 68.0) * 1.2) + (humidity_data * 0.094))\n\n# Cap the (feels like) index at 80\ndiscomfort_index = np.where(discomfort_index > 80, 80, discomfort_index)\n",
      "metadata": {
        "trusted": true
      },
      "outputs": [],
      "execution_count": 16
    },
    {
      "cell_type": "markdown",
      "source": "### 4. Analyze January Temperatures",
      "metadata": {}
    },
    {
      "cell_type": "code",
      "source": "# Extract January temperatures\n# Slicing first 31 days\njanuary_temperatures = temperature_data[:, :31]\n\n#  average January temperature\naverage_january_temp = np.nanmean(january_temperatures)\nprint(f\"Average January temperature across all locations: {average_january_temp:.2f}°C\")\n",
      "metadata": {
        "trusted": true
      },
      "outputs": [
        {
          "name": "stdout",
          "text": "Average January temperature across all locations: 15.02°C\n",
          "output_type": "stream"
        }
      ],
      "execution_count": 17
    },
    {
      "cell_type": "markdown",
      "source": "### 5. Identify Extreme Temperatures",
      "metadata": {}
    },
    {
      "cell_type": "code",
      "source": "# Mark temperatures exceeding 35°C as NaN\ntemperature_data = np.where(temperature_data > 35, np.nan, temperature_data)\n\n# Count the number of NaN values per location\nnan_counts_per_location = np.isnan(temperature_data).sum(axis=1)",
      "metadata": {
        "trusted": true
      },
      "outputs": [],
      "execution_count": 18
    },
    {
      "cell_type": "markdown",
      "source": "### 6. Calculate Quarterly Temperature Averages",
      "metadata": {}
    },
    {
      "cell_type": "code",
      "source": "# Reshape temperature data into quarters\nquarters = np.array_split(temperature_data, 4, axis=1)\n\n# Calculate average temperature for each quarter\nquarterly_averages = [np.nanmean(quarter, axis=1) for quarter in quarters]\n",
      "metadata": {
        "trusted": true
      },
      "outputs": [],
      "execution_count": 19
    },
    {
      "cell_type": "markdown",
      "source": "### 7. Classify Humidity Levels",
      "metadata": {}
    },
    {
      "cell_type": "code",
      "source": "# Classify humidity levels\ndry_days = np.sum(humidity_data < 30, axis=1)\nhumid_days = np.sum(humidity_data > 70, axis=1)\n\n# Calculate total number of \"Dry\" and \"Humid\" days across all locations\ntotal_dry_days = np.sum(dry_days)\ntotal_humid_days = np.sum(humid_days)\n\nprint(f\"Total number of 'Dry' days across all locations: {total_dry_days}\")\nprint(f\"Total number of 'Humid' days across all locations: {total_humid_days}\")\n\n",
      "metadata": {
        "trusted": true
      },
      "outputs": [
        {
          "name": "stdout",
          "text": "Total number of 'Dry' days across all locations: 51942\nTotal number of 'Humid' days across all locations: 52167\n",
          "output_type": "stream"
        }
      ],
      "execution_count": 20
    },
    {
      "cell_type": "markdown",
      "source": "### 8. Apply Daily Pressure Trend to Temperature Data",
      "metadata": {}
    },
    {
      "cell_type": "code",
      "source": "# Generate a daily pressure trend (e.g., sinusoidal pattern) across 365 days\ndays = np.arange(365)\npressure_trend = 5 * np.sin(2 * np.pi * days / 365)  # Example: seasonal pressure trend\n\n# Apply pressure trend to adjust temperatures\nadjusted_temperature_data = temperature_data + pressure_trend\n\nprint(\"Adjusted temperature data after applying daily pressure trend.\")\n",
      "metadata": {
        "trusted": true
      },
      "outputs": [
        {
          "name": "stdout",
          "text": "Adjusted temperature data after applying daily pressure trend.\n",
          "output_type": "stream"
        }
      ],
      "execution_count": 21
    },
    {
      "cell_type": "code",
      "source": "",
      "metadata": {
        "trusted": true
      },
      "outputs": [],
      "execution_count": null
    }
  ]
}